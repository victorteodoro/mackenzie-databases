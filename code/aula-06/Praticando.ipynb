{
 "cells": [
  {
   "cell_type": "markdown",
   "metadata": {},
   "source": [
    "# Configurando o ambiente\n",
    "\n",
    "Usei a integtração SQL com o Jupyter Notebook para rodar as queries do exercício de forma interativa e mais fácil de acompanhar.\n"
   ]
  },
  {
   "cell_type": "code",
   "execution_count": 8,
   "metadata": {
    "vscode": {
     "languageId": "sql"
    }
   },
   "outputs": [
    {
     "name": "stdout",
     "output_type": "stream",
     "text": [
      "\u001b[33mThere's a new jupysql version available (0.10.2), you're running 0.10.1. To upgrade: pip install jupysql --upgrade\u001b[0m\n"
     ]
    }
   ],
   "source": [
    "%load_ext sql"
   ]
  },
  {
   "cell_type": "code",
   "execution_count": 9,
   "metadata": {
    "vscode": {
     "languageId": "sql"
    }
   },
   "outputs": [],
   "source": [
    "%sql --section db-aula-06"
   ]
  },
  {
   "cell_type": "markdown",
   "metadata": {},
   "source": [
    "# Exercício\n"
   ]
  },
  {
   "cell_type": "markdown",
   "metadata": {},
   "source": [
    "1. Obtenha o nome de cada aluno e o nome do curso a que cada um pertence.\n"
   ]
  },
  {
   "cell_type": "code",
   "execution_count": 14,
   "metadata": {
    "vscode": {
     "languageId": "sql"
    }
   },
   "outputs": [
    {
     "data": {
      "text/html": [
       "<span style=\"None\">Running query in &#x27;db-aula-06&#x27;</span>"
      ],
      "text/plain": [
       "Running query in 'db-aula-06'"
      ]
     },
     "metadata": {},
     "output_type": "display_data"
    },
    {
     "data": {
      "text/html": [
       "<span style=\"color: green\">5 rows affected.</span>"
      ],
      "text/plain": [
       "5 rows affected."
      ]
     },
     "metadata": {},
     "output_type": "display_data"
    },
    {
     "data": {
      "text/html": [
       "<table>\n",
       "    <thead>\n",
       "        <tr>\n",
       "            <th>nome_aluno</th>\n",
       "            <th>nome_curso</th>\n",
       "        </tr>\n",
       "    </thead>\n",
       "    <tbody>\n",
       "        <tr>\n",
       "            <td>Claudia</td>\n",
       "            <td>Ciencia da Computacao</td>\n",
       "        </tr>\n",
       "        <tr>\n",
       "            <td>Andrea</td>\n",
       "            <td>Ciencia da Computacao</td>\n",
       "        </tr>\n",
       "        <tr>\n",
       "            <td>Regiane</td>\n",
       "            <td>Ciencia da Computacao</td>\n",
       "        </tr>\n",
       "        <tr>\n",
       "            <td>Rodrigo</td>\n",
       "            <td>Administracao de Empresas</td>\n",
       "        </tr>\n",
       "        <tr>\n",
       "            <td>Renata</td>\n",
       "            <td>Administracao de Empresas</td>\n",
       "        </tr>\n",
       "    </tbody>\n",
       "</table>"
      ],
      "text/plain": [
       "+------------+---------------------------+\n",
       "| nome_aluno |         nome_curso        |\n",
       "+------------+---------------------------+\n",
       "|  Claudia   |   Ciencia da Computacao   |\n",
       "|   Andrea   |   Ciencia da Computacao   |\n",
       "|  Regiane   |   Ciencia da Computacao   |\n",
       "|  Rodrigo   | Administracao de Empresas |\n",
       "|   Renata   | Administracao de Empresas |\n",
       "+------------+---------------------------+"
      ]
     },
     "execution_count": 14,
     "metadata": {},
     "output_type": "execute_result"
    }
   ],
   "source": [
    "%%sql\n",
    "\n",
    "select nome_aluno,  nome_curso\n",
    "from aluno \n",
    "left join curso on aluno.cod_curso = curso.cod_curso"
   ]
  },
  {
   "cell_type": "markdown",
   "metadata": {},
   "source": [
    "2. Obtenha a maior idade, a menor idade e a idade média dos alunos do curso de 'Ciencia da Computacao'.\n"
   ]
  },
  {
   "cell_type": "code",
   "execution_count": 16,
   "metadata": {
    "vscode": {
     "languageId": "sql"
    }
   },
   "outputs": [
    {
     "data": {
      "text/html": [
       "<span style=\"None\">Running query in &#x27;db-aula-06&#x27;</span>"
      ],
      "text/plain": [
       "Running query in 'db-aula-06'"
      ]
     },
     "metadata": {},
     "output_type": "display_data"
    },
    {
     "data": {
      "text/html": [
       "<span style=\"color: green\">1 rows affected.</span>"
      ],
      "text/plain": [
       "1 rows affected."
      ]
     },
     "metadata": {},
     "output_type": "display_data"
    },
    {
     "data": {
      "text/html": [
       "<table>\n",
       "    <thead>\n",
       "        <tr>\n",
       "            <th>idade_máxima</th>\n",
       "            <th>idade_mínima</th>\n",
       "            <th>idade_média</th>\n",
       "        </tr>\n",
       "    </thead>\n",
       "    <tbody>\n",
       "        <tr>\n",
       "            <td>24</td>\n",
       "            <td>20</td>\n",
       "            <td>22.0000000000000000</td>\n",
       "        </tr>\n",
       "    </tbody>\n",
       "</table>"
      ],
      "text/plain": [
       "+--------------+--------------+---------------------+\n",
       "| idade_máxima | idade_mínima |     idade_média     |\n",
       "+--------------+--------------+---------------------+\n",
       "|      24      |      20      | 22.0000000000000000 |\n",
       "+--------------+--------------+---------------------+"
      ]
     },
     "execution_count": 16,
     "metadata": {},
     "output_type": "execute_result"
    }
   ],
   "source": [
    "%%sql\n",
    "\n",
    "select \n",
    "    max(idade) as idade_máxima,\n",
    "    min(idade) as idade_mínima,\n",
    "    avg(idade) as idade_média\n",
    "from aluno \n",
    "left join curso on aluno.cod_curso = curso.cod_curso\n",
    "where nome_curso = 'Ciencia da Computacao'"
   ]
  },
  {
   "cell_type": "markdown",
   "metadata": {},
   "source": [
    "3. Obtenha o nome de cada curso (que tenha aluno) e, para cada curso, a média de idade e a quantidade de alunos.\n"
   ]
  },
  {
   "cell_type": "code",
   "execution_count": 19,
   "metadata": {
    "vscode": {
     "languageId": "sql"
    }
   },
   "outputs": [
    {
     "data": {
      "text/html": [
       "<span style=\"None\">Running query in &#x27;db-aula-06&#x27;</span>"
      ],
      "text/plain": [
       "Running query in 'db-aula-06'"
      ]
     },
     "metadata": {},
     "output_type": "display_data"
    },
    {
     "data": {
      "text/html": [
       "<span style=\"color: green\">2 rows affected.</span>"
      ],
      "text/plain": [
       "2 rows affected."
      ]
     },
     "metadata": {},
     "output_type": "display_data"
    },
    {
     "data": {
      "text/html": [
       "<table>\n",
       "    <thead>\n",
       "        <tr>\n",
       "            <th>nome_curso</th>\n",
       "            <th>idade_média</th>\n",
       "            <th>quantidade_de_alunos</th>\n",
       "        </tr>\n",
       "    </thead>\n",
       "    <tbody>\n",
       "        <tr>\n",
       "            <td>Ciencia da Computacao</td>\n",
       "            <td>22.0000000000000000</td>\n",
       "            <td>3</td>\n",
       "        </tr>\n",
       "        <tr>\n",
       "            <td>Administracao de Empresas</td>\n",
       "            <td>21.0000000000000000</td>\n",
       "            <td>2</td>\n",
       "        </tr>\n",
       "    </tbody>\n",
       "</table>"
      ],
      "text/plain": [
       "+---------------------------+---------------------+----------------------+\n",
       "|         nome_curso        |     idade_média     | quantidade_de_alunos |\n",
       "+---------------------------+---------------------+----------------------+\n",
       "|   Ciencia da Computacao   | 22.0000000000000000 |          3           |\n",
       "| Administracao de Empresas | 21.0000000000000000 |          2           |\n",
       "+---------------------------+---------------------+----------------------+"
      ]
     },
     "execution_count": 19,
     "metadata": {},
     "output_type": "execute_result"
    }
   ],
   "source": [
    "%%sql\n",
    "\n",
    "select \n",
    "    nome_curso,\n",
    "    avg(idade) as idade_média,\n",
    "    count(matricula) as quantidade_de_alunos\n",
    "from curso \n",
    "inner join aluno on aluno.cod_curso = curso.cod_curso\n",
    "group by nome_curso"
   ]
  },
  {
   "cell_type": "markdown",
   "metadata": {},
   "source": [
    "4. Obtenha o nome de cada aluno da universidade (mesmo aqueles que ainda não cursaram disciplina) e a quantidade de disciplinas que cada um já cursou. Retorne em ordem crescente da quantidade de disciplinas e, se houver empate na quantidade, em ordem crescente de nome do aluno.\n"
   ]
  },
  {
   "cell_type": "code",
   "execution_count": 21,
   "metadata": {
    "vscode": {
     "languageId": "sql"
    }
   },
   "outputs": [
    {
     "data": {
      "text/html": [
       "<span style=\"None\">Running query in &#x27;db-aula-06&#x27;</span>"
      ],
      "text/plain": [
       "Running query in 'db-aula-06'"
      ]
     },
     "metadata": {},
     "output_type": "display_data"
    },
    {
     "data": {
      "text/html": [
       "<span style=\"color: green\">5 rows affected.</span>"
      ],
      "text/plain": [
       "5 rows affected."
      ]
     },
     "metadata": {},
     "output_type": "display_data"
    },
    {
     "data": {
      "text/html": [
       "<table>\n",
       "    <thead>\n",
       "        <tr>\n",
       "            <th>nome_aluno</th>\n",
       "            <th>quantidade_de_disciplinas</th>\n",
       "        </tr>\n",
       "    </thead>\n",
       "    <tbody>\n",
       "        <tr>\n",
       "            <td>Andrea</td>\n",
       "            <td>0</td>\n",
       "        </tr>\n",
       "        <tr>\n",
       "            <td>Regiane</td>\n",
       "            <td>0</td>\n",
       "        </tr>\n",
       "        <tr>\n",
       "            <td>Renata</td>\n",
       "            <td>0</td>\n",
       "        </tr>\n",
       "        <tr>\n",
       "            <td>Claudia</td>\n",
       "            <td>2</td>\n",
       "        </tr>\n",
       "        <tr>\n",
       "            <td>Rodrigo</td>\n",
       "            <td>3</td>\n",
       "        </tr>\n",
       "    </tbody>\n",
       "</table>"
      ],
      "text/plain": [
       "+------------+---------------------------+\n",
       "| nome_aluno | quantidade_de_disciplinas |\n",
       "+------------+---------------------------+\n",
       "|   Andrea   |             0             |\n",
       "|  Regiane   |             0             |\n",
       "|   Renata   |             0             |\n",
       "|  Claudia   |             2             |\n",
       "|  Rodrigo   |             3             |\n",
       "+------------+---------------------------+"
      ]
     },
     "execution_count": 21,
     "metadata": {},
     "output_type": "execute_result"
    }
   ],
   "source": [
    "%%sql\n",
    "\n",
    "select \n",
    "    nome_aluno,\n",
    "    count(cod_disciplina) as quantidade_de_disciplinas\n",
    "from aluno\n",
    "left join aluno_disc on aluno.matricula = aluno_disc.matricula\n",
    "group by nome_aluno\n",
    "order by quantidade_de_disciplinas asc"
   ]
  },
  {
   "cell_type": "markdown",
   "metadata": {},
   "source": [
    "5. Obtenha o nome das disciplinas que a aluna 'Claudia' cursou e a nota que ela tirou em cada uma delas.\n"
   ]
  },
  {
   "cell_type": "code",
   "execution_count": 24,
   "metadata": {
    "vscode": {
     "languageId": "sql"
    }
   },
   "outputs": [
    {
     "data": {
      "text/html": [
       "<span style=\"None\">Running query in &#x27;db-aula-06&#x27;</span>"
      ],
      "text/plain": [
       "Running query in 'db-aula-06'"
      ]
     },
     "metadata": {},
     "output_type": "display_data"
    },
    {
     "data": {
      "text/html": [
       "<span style=\"color: green\">2 rows affected.</span>"
      ],
      "text/plain": [
       "2 rows affected."
      ]
     },
     "metadata": {},
     "output_type": "display_data"
    },
    {
     "data": {
      "text/html": [
       "<table>\n",
       "    <thead>\n",
       "        <tr>\n",
       "            <th>nome_aluno</th>\n",
       "            <th>nome_disciplina</th>\n",
       "            <th>nota</th>\n",
       "        </tr>\n",
       "    </thead>\n",
       "    <tbody>\n",
       "        <tr>\n",
       "            <td>Claudia</td>\n",
       "            <td>Banco de Dados I</td>\n",
       "            <td>8</td>\n",
       "        </tr>\n",
       "        <tr>\n",
       "            <td>Claudia</td>\n",
       "            <td>Engenharia de Software I</td>\n",
       "            <td>7</td>\n",
       "        </tr>\n",
       "    </tbody>\n",
       "</table>"
      ],
      "text/plain": [
       "+------------+--------------------------+------+\n",
       "| nome_aluno |     nome_disciplina      | nota |\n",
       "+------------+--------------------------+------+\n",
       "|  Claudia   |     Banco de Dados I     |  8   |\n",
       "|  Claudia   | Engenharia de Software I |  7   |\n",
       "+------------+--------------------------+------+"
      ]
     },
     "execution_count": 24,
     "metadata": {},
     "output_type": "execute_result"
    }
   ],
   "source": [
    "%%sql\n",
    "\n",
    "select \n",
    "    nome_aluno,\n",
    "    nome_disciplina,\n",
    "    nota\n",
    "from aluno_disc\n",
    "left join aluno on aluno.matricula = aluno_disc.matricula\n",
    "left join disciplina on disciplina.cod_disciplina = aluno_disc.cod_disciplina\n",
    "where nome_aluno = 'Claudia'\n",
    "order by nota desc"
   ]
  },
  {
   "cell_type": "markdown",
   "metadata": {},
   "source": [
    "6. Obtenha o nome de cada disciplina e o nome do instituto a que cada uma pertence.\n"
   ]
  },
  {
   "cell_type": "code",
   "execution_count": 27,
   "metadata": {
    "vscode": {
     "languageId": "sql"
    }
   },
   "outputs": [
    {
     "data": {
      "text/html": [
       "<span style=\"None\">Running query in &#x27;db-aula-06&#x27;</span>"
      ],
      "text/plain": [
       "Running query in 'db-aula-06'"
      ]
     },
     "metadata": {},
     "output_type": "display_data"
    },
    {
     "data": {
      "text/html": [
       "<span style=\"color: green\">5 rows affected.</span>"
      ],
      "text/plain": [
       "5 rows affected."
      ]
     },
     "metadata": {},
     "output_type": "display_data"
    },
    {
     "data": {
      "text/html": [
       "<table>\n",
       "    <thead>\n",
       "        <tr>\n",
       "            <th>nome_disciplina</th>\n",
       "            <th>nome_instituto</th>\n",
       "        </tr>\n",
       "    </thead>\n",
       "    <tbody>\n",
       "        <tr>\n",
       "            <td>Banco de Dados I</td>\n",
       "            <td>Ciencias Exatas</td>\n",
       "        </tr>\n",
       "        <tr>\n",
       "            <td>Engenharia de Software I</td>\n",
       "            <td>Ciencias Exatas</td>\n",
       "        </tr>\n",
       "        <tr>\n",
       "            <td>Banco de Dados II</td>\n",
       "            <td>Ciencias Exatas</td>\n",
       "        </tr>\n",
       "        <tr>\n",
       "            <td>Interface Homem-Maquina</td>\n",
       "            <td>Ciencias Exatas</td>\n",
       "        </tr>\n",
       "        <tr>\n",
       "            <td>Engenharia de Software II</td>\n",
       "            <td>Ciencias Exatas</td>\n",
       "        </tr>\n",
       "    </tbody>\n",
       "</table>"
      ],
      "text/plain": [
       "+---------------------------+-----------------+\n",
       "|      nome_disciplina      |  nome_instituto |\n",
       "+---------------------------+-----------------+\n",
       "|      Banco de Dados I     | Ciencias Exatas |\n",
       "|  Engenharia de Software I | Ciencias Exatas |\n",
       "|     Banco de Dados II     | Ciencias Exatas |\n",
       "|  Interface Homem-Maquina  | Ciencias Exatas |\n",
       "| Engenharia de Software II | Ciencias Exatas |\n",
       "+---------------------------+-----------------+"
      ]
     },
     "execution_count": 27,
     "metadata": {},
     "output_type": "execute_result"
    }
   ],
   "source": [
    "%%sql\n",
    "\n",
    "select\n",
    "    nome_disciplina,\n",
    "    nome_instituto\n",
    "from disciplina as disc\n",
    "left join curso as c on c.cod_curso = disc.cod_curso\n",
    "left join instituto as inst on inst.cod_instituto = c.cod_instituto"
   ]
  },
  {
   "cell_type": "markdown",
   "metadata": {},
   "source": [
    "7. Obtenha o nome de todos os professores da universidade (mesmo aqueles que ainda não ministraram disciplina) e os nomes das disciplinas que eles ministram. Retorne em ordem crescente do nome do professor.\n"
   ]
  },
  {
   "cell_type": "code",
   "execution_count": 30,
   "metadata": {
    "vscode": {
     "languageId": "sql"
    }
   },
   "outputs": [
    {
     "data": {
      "text/html": [
       "<span style=\"None\">Running query in &#x27;db-aula-06&#x27;</span>"
      ],
      "text/plain": [
       "Running query in 'db-aula-06'"
      ]
     },
     "metadata": {},
     "output_type": "display_data"
    },
    {
     "data": {
      "text/html": [
       "<span style=\"color: green\">4 rows affected.</span>"
      ],
      "text/plain": [
       "4 rows affected."
      ]
     },
     "metadata": {},
     "output_type": "display_data"
    },
    {
     "data": {
      "text/html": [
       "<table>\n",
       "    <thead>\n",
       "        <tr>\n",
       "            <th>nome_professor</th>\n",
       "            <th>disciplinas</th>\n",
       "        </tr>\n",
       "    </thead>\n",
       "    <tbody>\n",
       "        <tr>\n",
       "            <td>Ana</td>\n",
       "            <td>None</td>\n",
       "        </tr>\n",
       "        <tr>\n",
       "            <td>Camila</td>\n",
       "            <td>Banco de Dados I, Banco de Dados II</td>\n",
       "        </tr>\n",
       "        <tr>\n",
       "            <td>Joao</td>\n",
       "            <td>Engenharia de Software I, Engenharia de Software II</td>\n",
       "        </tr>\n",
       "        <tr>\n",
       "            <td>Pedro</td>\n",
       "            <td>Interface Homem-Maquina</td>\n",
       "        </tr>\n",
       "    </tbody>\n",
       "</table>"
      ],
      "text/plain": [
       "+----------------+-----------------------------------------------------+\n",
       "| nome_professor |                     disciplinas                     |\n",
       "+----------------+-----------------------------------------------------+\n",
       "|      Ana       |                         None                        |\n",
       "|     Camila     |         Banco de Dados I, Banco de Dados II         |\n",
       "|      Joao      | Engenharia de Software I, Engenharia de Software II |\n",
       "|     Pedro      |               Interface Homem-Maquina               |\n",
       "+----------------+-----------------------------------------------------+"
      ]
     },
     "execution_count": 30,
     "metadata": {},
     "output_type": "execute_result"
    }
   ],
   "source": [
    "%%sql\n",
    "\n",
    "-- Estou usando Postgres como bando de dados\n",
    "select\n",
    "    nome_professor,\n",
    "    STRING_AGG(nome_disciplina, ', ') as disciplinas\n",
    "from professor as prof\n",
    "left join prof_disc as pd on pd.cod_professor = prof.cod_professor\n",
    "left join disciplina as disc on disc.cod_disciplina = pd.cod_disciplina\n",
    "group by nome_professor\n",
    "order by nome_professor asc"
   ]
  },
  {
   "cell_type": "markdown",
   "metadata": {},
   "source": [
    "8. Obtenha o nome dos alunos (de qualquer curso) que têm idade superior à média de idade dos alunos do curso de 'Administracao de Empresas'.\n"
   ]
  },
  {
   "cell_type": "code",
   "execution_count": 41,
   "metadata": {
    "vscode": {
     "languageId": "sql"
    }
   },
   "outputs": [
    {
     "data": {
      "text/html": [
       "<span style=\"None\">Running query in &#x27;db-aula-06&#x27;</span>"
      ],
      "text/plain": [
       "Running query in 'db-aula-06'"
      ]
     },
     "metadata": {},
     "output_type": "display_data"
    },
    {
     "data": {
      "text/html": [
       "<span style=\"color: green\">3 rows affected.</span>"
      ],
      "text/plain": [
       "3 rows affected."
      ]
     },
     "metadata": {},
     "output_type": "display_data"
    },
    {
     "data": {
      "text/html": [
       "<table>\n",
       "    <thead>\n",
       "        <tr>\n",
       "            <th>nome_aluno</th>\n",
       "        </tr>\n",
       "    </thead>\n",
       "    <tbody>\n",
       "        <tr>\n",
       "            <td>Andrea</td>\n",
       "        </tr>\n",
       "        <tr>\n",
       "            <td>Regiane</td>\n",
       "        </tr>\n",
       "        <tr>\n",
       "            <td>Renata</td>\n",
       "        </tr>\n",
       "    </tbody>\n",
       "</table>"
      ],
      "text/plain": [
       "+------------+\n",
       "| nome_aluno |\n",
       "+------------+\n",
       "|   Andrea   |\n",
       "|  Regiane   |\n",
       "|   Renata   |\n",
       "+------------+"
      ]
     },
     "execution_count": 41,
     "metadata": {},
     "output_type": "execute_result"
    }
   ],
   "source": [
    "%%sql\n",
    "\n",
    "select nome_aluno\n",
    "from aluno\n",
    "where idade > (select avg(idade)\n",
    "                 from aluno as al\n",
    "                 left join curso as c on c.cod_curso = al.cod_curso\n",
    "                 where nome_curso = 'Administracao de Empresas')"
   ]
  },
  {
   "cell_type": "markdown",
   "metadata": {},
   "source": [
    "9. Obtenha o nome de cada professor (que orienta aluno) e a quantidade de alunos que cada um orienta, mas somente aqueles que orientam mais alunos que o professor ‘Joao’.\n"
   ]
  },
  {
   "cell_type": "code",
   "execution_count": 56,
   "metadata": {
    "vscode": {
     "languageId": "sql"
    }
   },
   "outputs": [
    {
     "data": {
      "text/html": [
       "<span style=\"None\">Running query in &#x27;db-aula-06&#x27;</span>"
      ],
      "text/plain": [
       "Running query in 'db-aula-06'"
      ]
     },
     "metadata": {},
     "output_type": "display_data"
    },
    {
     "data": {
      "text/html": [
       "<span style=\"color: green\">2 rows affected.</span>"
      ],
      "text/plain": [
       "2 rows affected."
      ]
     },
     "metadata": {},
     "output_type": "display_data"
    },
    {
     "data": {
      "text/html": [
       "<table>\n",
       "    <thead>\n",
       "        <tr>\n",
       "            <th>nome_professor</th>\n",
       "            <th>numero_de_alunos</th>\n",
       "        </tr>\n",
       "    </thead>\n",
       "    <tbody>\n",
       "        <tr>\n",
       "            <td>Pedro</td>\n",
       "            <td>2</td>\n",
       "        </tr>\n",
       "        <tr>\n",
       "            <td>Camila</td>\n",
       "            <td>2</td>\n",
       "        </tr>\n",
       "    </tbody>\n",
       "</table>"
      ],
      "text/plain": [
       "+----------------+------------------+\n",
       "| nome_professor | numero_de_alunos |\n",
       "+----------------+------------------+\n",
       "|     Pedro      |        2         |\n",
       "|     Camila     |        2         |\n",
       "+----------------+------------------+"
      ]
     },
     "execution_count": 56,
     "metadata": {},
     "output_type": "execute_result"
    }
   ],
   "source": [
    "%%sql\n",
    "\n",
    "with alunos_por_professor as (\n",
    "    select nome_professor, count(matricula) as numero_de_alunos\n",
    "    from aluno al\n",
    "    left join professor prof on prof.cod_professor = al.cod_professor_orientador\n",
    "    group by nome_professor\n",
    ")\n",
    "\n",
    "select nome_professor, numero_de_alunos\n",
    "from alunos_por_professor\n",
    "where numero_de_alunos > (select numero_de_alunos from alunos_por_professor where nome_professor = 'Joao')"
   ]
  }
 ],
 "metadata": {
  "kernelspec": {
   "display_name": "dbs",
   "language": "python",
   "name": "python3"
  },
  "language_info": {
   "codemirror_mode": {
    "name": "ipython",
    "version": 3
   },
   "file_extension": ".py",
   "mimetype": "text/x-python",
   "name": "python",
   "nbconvert_exporter": "python",
   "pygments_lexer": "ipython3",
   "version": "3.12.0"
  }
 },
 "nbformat": 4,
 "nbformat_minor": 2
}
