{
 "cells": [
  {
   "cell_type": "markdown",
   "metadata": {},
   "source": [
    "1) Obtenha o nome e o salário dos professores que possuem um salário entre 2500 e 4000 (inclusive estes valores), em ordem decrescente de salário."
   ]
  },
  {
   "cell_type": "code",
   "execution_count": null,
   "metadata": {
    "vscode": {
     "languageId": "sql"
    }
   },
   "outputs": [],
   "source": [
    "SELECT nome_professor, salario\n",
    "FROM professor\n",
    "WHERE salario BETWEEN 2500 and 4000\n",
    "ORDER BY salario DESC"
   ]
  },
  {
   "cell_type": "markdown",
   "metadata": {},
   "source": [
    "2) Obtenha o nome e a idade dos alunos cujo nome contenha a letra “i” e que tenha mais de 19 anos, em ordem crescente do nome do aluno."
   ]
  },
  {
   "cell_type": "code",
   "execution_count": null,
   "metadata": {
    "vscode": {
     "languageId": "sql"
    }
   },
   "outputs": [],
   "source": [
    "SELECT nome_aluno, idade\n",
    "FROM aluno\n",
    "WHERE nome_aluno ILIKE '%i%'\n",
    "    AND idade > 19\n",
    "ORDER BY nome_aluno ASC"
   ]
  },
  {
   "cell_type": "markdown",
   "metadata": {},
   "source": [
    "3) Obtenha a média de idade e a quantidade de alunos do curso de código igual a 1001."
   ]
  },
  {
   "cell_type": "code",
   "execution_count": null,
   "metadata": {
    "vscode": {
     "languageId": "sql"
    }
   },
   "outputs": [],
   "source": [
    "SELECT avg(idade) as media_idade,\n",
    "    count(matricula) as numero_de_alunos\n",
    "FROM aluno\n",
    "WHERE cod_curso = 1001"
   ]
  },
  {
   "cell_type": "markdown",
   "metadata": {},
   "source": [
    "4) Obtenha a nota média que o aluno de matrícula igual a 1 teve nas disciplinas que ele já cursou."
   ]
  },
  {
   "cell_type": "code",
   "execution_count": null,
   "metadata": {
    "vscode": {
     "languageId": "sql"
    }
   },
   "outputs": [],
   "source": [
    "SELECT avg(nota) as nota_media\n",
    "FROM aluno_disc\n",
    "WHERE matricula = 1"
   ]
  },
  {
   "cell_type": "markdown",
   "metadata": {},
   "source": [
    "5) Obtenha, para cada matrícula de aluno, a nota média e a quantidade de disciplinas que cada um já cursou (considere somente os alunos que já cursaram alguma disciplina)."
   ]
  },
  {
   "cell_type": "code",
   "execution_count": null,
   "metadata": {
    "vscode": {
     "languageId": "sql"
    }
   },
   "outputs": [],
   "source": [
    "SELECT matricula,\n",
    "    avg(nota) as nota_media,\n",
    "    count(DISTINCT(cod_disciplina)) as disciplinas_cursadas\n",
    "FROM aluno_disc\n",
    "GROUP BY matricula\n",
    "ORDER BY nota_media desc"
   ]
  }
 ],
 "metadata": {
  "language_info": {
   "name": "python"
  }
 },
 "nbformat": 4,
 "nbformat_minor": 2
}
